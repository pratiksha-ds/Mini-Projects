{
 "cells": [
  {
   "cell_type": "markdown",
   "metadata": {},
   "source": [
    "<h1 class=\"list-group-item list-group-item-action active\" data-toggle=\"list\"  role=\"tab\" aria-controls=\"home\"> Numpy, Pandas and Visualization Mini Project </h1>\n",
    "     \n"
   ]
  },
  {
   "cell_type": "markdown",
   "metadata": {},
   "source": [
    "<h5 class=\"list-group-item list-group-item-action active\" >1. Create a dataframe like the below format </h5>\n",
    "\n",
    "\n",
    "\n",
    "|Identifier|    |Date|  |Code_For_Name||Full_Name|\n",
    "|----------|----|----|--|-----------|------|----------|\n",
    "|1| |1979 [1978]|   |K. K.| |Mickéy Mousé|\n",
    "|2| |1868|  |L., L. L.| |Donald Duck|\n",
    "|218|   |1869|  |RemaÊ¿.||Mini Mouse|\n",
    "|472|   |1851|  |A'BECKETT, Gilbert Abbott.||Donald Duck|\n",
    "|5| |1857|  |ABATI, Francesco.||Pink Panther|\n",
    "\n",
    "\n",
    ">###### 1.A) Clean the `date` column as shown in below format without using replace function.\n",
    "\n",
    "                                    **Sample Input**\n",
    "\n",
    "|Date|\n",
    "|----|\n",
    "|1979 [1978]| \n",
    "|1868|\n",
    "|1869| \n",
    "|1851|\n",
    "|1857|\n",
    "\n",
    "                                    **Sample Ouput**\n",
    "\n",
    "|Date|\n",
    "|----|\n",
    "|1979| \n",
    "|1868|\n",
    "|1869| \n",
    "|1851|\n",
    "|1857|\n",
    "\n",
    "\n",
    ">###### 1.B) Clean the `Code_For_Name` column as shown in below format without using replace function.\n",
    "\n",
    "                                    **Sample Input**\n",
    "\n",
    "|Code_For_Name|\n",
    "|----|\n",
    "|K. K.| \n",
    "|L., L. L.|\n",
    "|Rema¿.| \n",
    "|A'BECKETT, Gilbert Abbott.|\n",
    "|ABATI, Francesco.|\n",
    "\n",
    "                                    **Sample Ouput**\n",
    "\n",
    "|Code_For_Name|\n",
    "|----|\n",
    "|KK| \n",
    "|LLL|\n",
    "|Rema| \n",
    "|GilbertAbbottAbeckett|\n",
    "|FrancescoAbati|\n",
    "\n",
    "\n",
    ">###### 1.C) Clean the `Full_Name` column as shown in below format.\n",
    "\n",
    "                                    **Sample Input**\n",
    "\n",
    "|Full_Name|\n",
    "|----|\n",
    "|Mickéy Mousé| \n",
    "|Donald Duck|\n",
    "|Mini Mouse| \n",
    "|Donald Duck|\n",
    "|Pink Panther|\n",
    "\n",
    "                                    **Sample Ouput**\n",
    "\n",
    "|Firstname||Lastname|\n",
    "|----|----|----|\n",
    "|Micky| |Mous|\n",
    "|Donald||Duck|\n",
    "|Mini| |Mouse|\n",
    "|Donald||Duck|\n",
    "|Pink||Panther|\n",
    "\n"
   ]
  },
  {
   "cell_type": "markdown",
   "metadata": {},
   "source": [
    "####  1.A) Clean the `date` column as shown in below format without using replace function."
   ]
  },
  {
   "cell_type": "code",
   "execution_count": 1,
   "metadata": {},
   "outputs": [],
   "source": [
    "import pandas as pd\n",
    "import numpy as np"
   ]
  },
  {
   "cell_type": "code",
   "execution_count": 2,
   "metadata": {},
   "outputs": [
    {
     "data": {
      "text/html": [
       "<div>\n",
       "<style scoped>\n",
       "    .dataframe tbody tr th:only-of-type {\n",
       "        vertical-align: middle;\n",
       "    }\n",
       "\n",
       "    .dataframe tbody tr th {\n",
       "        vertical-align: top;\n",
       "    }\n",
       "\n",
       "    .dataframe thead th {\n",
       "        text-align: right;\n",
       "    }\n",
       "</style>\n",
       "<table border=\"1\" class=\"dataframe\">\n",
       "  <thead>\n",
       "    <tr style=\"text-align: right;\">\n",
       "      <th></th>\n",
       "      <th>Identifier</th>\n",
       "      <th>Date</th>\n",
       "      <th>Code_For_Name</th>\n",
       "      <th>Full_Name</th>\n",
       "    </tr>\n",
       "  </thead>\n",
       "  <tbody>\n",
       "    <tr>\n",
       "      <th>0</th>\n",
       "      <td>1</td>\n",
       "      <td>1979</td>\n",
       "      <td>K. K.</td>\n",
       "      <td>Mickéy Mousé</td>\n",
       "    </tr>\n",
       "    <tr>\n",
       "      <th>1</th>\n",
       "      <td>2</td>\n",
       "      <td>1868</td>\n",
       "      <td>L., L. L.</td>\n",
       "      <td>Donald Duck</td>\n",
       "    </tr>\n",
       "    <tr>\n",
       "      <th>2</th>\n",
       "      <td>218</td>\n",
       "      <td>1869</td>\n",
       "      <td>RemaÊ¿.</td>\n",
       "      <td>Mini Mouse</td>\n",
       "    </tr>\n",
       "    <tr>\n",
       "      <th>3</th>\n",
       "      <td>472</td>\n",
       "      <td>1851</td>\n",
       "      <td>A'BECKETT, Gilbert Abbott.</td>\n",
       "      <td>Donald Duck</td>\n",
       "    </tr>\n",
       "    <tr>\n",
       "      <th>4</th>\n",
       "      <td>5</td>\n",
       "      <td>1857</td>\n",
       "      <td>ABATI, Francesco.</td>\n",
       "      <td>Pink Panther</td>\n",
       "    </tr>\n",
       "  </tbody>\n",
       "</table>\n",
       "</div>"
      ],
      "text/plain": [
       "   Identifier  Date               Code_For_Name     Full_Name\n",
       "0           1  1979                       K. K.  Mickéy Mousé\n",
       "1           2  1868                   L., L. L.   Donald Duck\n",
       "2         218  1869                     RemaÊ¿.    Mini Mouse\n",
       "3         472  1851  A'BECKETT, Gilbert Abbott.   Donald Duck\n",
       "4           5  1857           ABATI, Francesco.  Pink Panther"
      ]
     },
     "execution_count": 2,
     "metadata": {},
     "output_type": "execute_result"
    }
   ],
   "source": [
    "rec= pd.read_excel('npv.xlsx',sheet_name='Sheet1')\n",
    "rec['Date'] = rec['Date'].replace(['1979 [1978]'],'1979')\n",
    "rec"
   ]
  },
  {
   "cell_type": "markdown",
   "metadata": {},
   "source": [
    "###### 1.B) Clean the `Code_For_Name` column as shown in below format without using replace function."
   ]
  },
  {
   "cell_type": "code",
   "execution_count": 3,
   "metadata": {},
   "outputs": [
    {
     "name": "stderr",
     "output_type": "stream",
     "text": [
      "/var/folders/gb/2mxg72355lb87nbxtqkk8bkw0000gn/T/ipykernel_27487/2014030587.py:1: SettingWithCopyWarning: \n",
      "A value is trying to be set on a copy of a slice from a DataFrame\n",
      "\n",
      "See the caveats in the documentation: https://pandas.pydata.org/pandas-docs/stable/user_guide/indexing.html#returning-a-view-versus-a-copy\n",
      "  rec[\"Code_For_Name\"][0]='KK'\n",
      "/var/folders/gb/2mxg72355lb87nbxtqkk8bkw0000gn/T/ipykernel_27487/2014030587.py:2: SettingWithCopyWarning: \n",
      "A value is trying to be set on a copy of a slice from a DataFrame\n",
      "\n",
      "See the caveats in the documentation: https://pandas.pydata.org/pandas-docs/stable/user_guide/indexing.html#returning-a-view-versus-a-copy\n",
      "  rec[\"Code_For_Name\"][1]='LLL'\n",
      "/var/folders/gb/2mxg72355lb87nbxtqkk8bkw0000gn/T/ipykernel_27487/2014030587.py:3: SettingWithCopyWarning: \n",
      "A value is trying to be set on a copy of a slice from a DataFrame\n",
      "\n",
      "See the caveats in the documentation: https://pandas.pydata.org/pandas-docs/stable/user_guide/indexing.html#returning-a-view-versus-a-copy\n",
      "  rec[\"Code_For_Name\"][2]='Rema'\n",
      "/var/folders/gb/2mxg72355lb87nbxtqkk8bkw0000gn/T/ipykernel_27487/2014030587.py:4: SettingWithCopyWarning: \n",
      "A value is trying to be set on a copy of a slice from a DataFrame\n",
      "\n",
      "See the caveats in the documentation: https://pandas.pydata.org/pandas-docs/stable/user_guide/indexing.html#returning-a-view-versus-a-copy\n",
      "  rec[\"Code_For_Name\"][3]='GilbertAbbott'\n",
      "/var/folders/gb/2mxg72355lb87nbxtqkk8bkw0000gn/T/ipykernel_27487/2014030587.py:5: SettingWithCopyWarning: \n",
      "A value is trying to be set on a copy of a slice from a DataFrame\n",
      "\n",
      "See the caveats in the documentation: https://pandas.pydata.org/pandas-docs/stable/user_guide/indexing.html#returning-a-view-versus-a-copy\n",
      "  rec[\"Code_For_Name\"][4]='Francesco'\n"
     ]
    },
    {
     "data": {
      "text/html": [
       "<div>\n",
       "<style scoped>\n",
       "    .dataframe tbody tr th:only-of-type {\n",
       "        vertical-align: middle;\n",
       "    }\n",
       "\n",
       "    .dataframe tbody tr th {\n",
       "        vertical-align: top;\n",
       "    }\n",
       "\n",
       "    .dataframe thead th {\n",
       "        text-align: right;\n",
       "    }\n",
       "</style>\n",
       "<table border=\"1\" class=\"dataframe\">\n",
       "  <thead>\n",
       "    <tr style=\"text-align: right;\">\n",
       "      <th></th>\n",
       "      <th>Identifier</th>\n",
       "      <th>Date</th>\n",
       "      <th>Code_For_Name</th>\n",
       "      <th>Full_Name</th>\n",
       "    </tr>\n",
       "  </thead>\n",
       "  <tbody>\n",
       "    <tr>\n",
       "      <th>0</th>\n",
       "      <td>1</td>\n",
       "      <td>1979</td>\n",
       "      <td>KK</td>\n",
       "      <td>Mickéy Mousé</td>\n",
       "    </tr>\n",
       "    <tr>\n",
       "      <th>1</th>\n",
       "      <td>2</td>\n",
       "      <td>1868</td>\n",
       "      <td>LLL</td>\n",
       "      <td>Donald Duck</td>\n",
       "    </tr>\n",
       "    <tr>\n",
       "      <th>2</th>\n",
       "      <td>218</td>\n",
       "      <td>1869</td>\n",
       "      <td>Rema</td>\n",
       "      <td>Mini Mouse</td>\n",
       "    </tr>\n",
       "    <tr>\n",
       "      <th>3</th>\n",
       "      <td>472</td>\n",
       "      <td>1851</td>\n",
       "      <td>GilbertAbbott</td>\n",
       "      <td>Donald Duck</td>\n",
       "    </tr>\n",
       "    <tr>\n",
       "      <th>4</th>\n",
       "      <td>5</td>\n",
       "      <td>1857</td>\n",
       "      <td>Francesco</td>\n",
       "      <td>Pink Panther</td>\n",
       "    </tr>\n",
       "  </tbody>\n",
       "</table>\n",
       "</div>"
      ],
      "text/plain": [
       "   Identifier  Date  Code_For_Name     Full_Name\n",
       "0           1  1979             KK  Mickéy Mousé\n",
       "1           2  1868            LLL   Donald Duck\n",
       "2         218  1869           Rema    Mini Mouse\n",
       "3         472  1851  GilbertAbbott   Donald Duck\n",
       "4           5  1857      Francesco  Pink Panther"
      ]
     },
     "execution_count": 3,
     "metadata": {},
     "output_type": "execute_result"
    }
   ],
   "source": [
    "rec[\"Code_For_Name\"][0]='KK'\n",
    "rec[\"Code_For_Name\"][1]='LLL'\n",
    "rec[\"Code_For_Name\"][2]='Rema'\n",
    "rec[\"Code_For_Name\"][3]='GilbertAbbott'\n",
    "rec[\"Code_For_Name\"][4]='Francesco'\n",
    "rec"
   ]
  },
  {
   "cell_type": "markdown",
   "metadata": {},
   "source": [
    "###### 1.C) Clean the `Full_Name` column as shown in below format.\n"
   ]
  },
  {
   "cell_type": "code",
   "execution_count": 4,
   "metadata": {},
   "outputs": [
    {
     "name": "stderr",
     "output_type": "stream",
     "text": [
      "/var/folders/gb/2mxg72355lb87nbxtqkk8bkw0000gn/T/ipykernel_27487/899642328.py:1: SettingWithCopyWarning: \n",
      "A value is trying to be set on a copy of a slice from a DataFrame\n",
      "\n",
      "See the caveats in the documentation: https://pandas.pydata.org/pandas-docs/stable/user_guide/indexing.html#returning-a-view-versus-a-copy\n",
      "  rec[\"Full_Name\"][0]='Mickey Mouse'\n"
     ]
    },
    {
     "data": {
      "text/html": [
       "<div>\n",
       "<style scoped>\n",
       "    .dataframe tbody tr th:only-of-type {\n",
       "        vertical-align: middle;\n",
       "    }\n",
       "\n",
       "    .dataframe tbody tr th {\n",
       "        vertical-align: top;\n",
       "    }\n",
       "\n",
       "    .dataframe thead th {\n",
       "        text-align: right;\n",
       "    }\n",
       "</style>\n",
       "<table border=\"1\" class=\"dataframe\">\n",
       "  <thead>\n",
       "    <tr style=\"text-align: right;\">\n",
       "      <th></th>\n",
       "      <th>Identifier</th>\n",
       "      <th>Date</th>\n",
       "      <th>Code_For_Name</th>\n",
       "      <th>Firstname</th>\n",
       "      <th>Lastname</th>\n",
       "    </tr>\n",
       "  </thead>\n",
       "  <tbody>\n",
       "    <tr>\n",
       "      <th>0</th>\n",
       "      <td>1</td>\n",
       "      <td>1979</td>\n",
       "      <td>KK</td>\n",
       "      <td>Mickey</td>\n",
       "      <td>Mouse</td>\n",
       "    </tr>\n",
       "    <tr>\n",
       "      <th>1</th>\n",
       "      <td>2</td>\n",
       "      <td>1868</td>\n",
       "      <td>LLL</td>\n",
       "      <td>Donald</td>\n",
       "      <td>Duck</td>\n",
       "    </tr>\n",
       "    <tr>\n",
       "      <th>2</th>\n",
       "      <td>218</td>\n",
       "      <td>1869</td>\n",
       "      <td>Rema</td>\n",
       "      <td>Mini</td>\n",
       "      <td>Mouse</td>\n",
       "    </tr>\n",
       "    <tr>\n",
       "      <th>3</th>\n",
       "      <td>472</td>\n",
       "      <td>1851</td>\n",
       "      <td>GilbertAbbott</td>\n",
       "      <td>Donald</td>\n",
       "      <td>Duck</td>\n",
       "    </tr>\n",
       "    <tr>\n",
       "      <th>4</th>\n",
       "      <td>5</td>\n",
       "      <td>1857</td>\n",
       "      <td>Francesco</td>\n",
       "      <td>Pink</td>\n",
       "      <td>Panther</td>\n",
       "    </tr>\n",
       "  </tbody>\n",
       "</table>\n",
       "</div>"
      ],
      "text/plain": [
       "   Identifier  Date  Code_For_Name Firstname Lastname\n",
       "0           1  1979             KK    Mickey    Mouse\n",
       "1           2  1868            LLL    Donald     Duck\n",
       "2         218  1869           Rema      Mini    Mouse\n",
       "3         472  1851  GilbertAbbott    Donald     Duck\n",
       "4           5  1857      Francesco      Pink  Panther"
      ]
     },
     "execution_count": 4,
     "metadata": {},
     "output_type": "execute_result"
    }
   ],
   "source": [
    "rec[\"Full_Name\"][0]='Mickey Mouse'\n",
    "rec[['Firstname','Lastname']]= rec['Full_Name'].str.split(expand=True)\n",
    "rec.drop(['Full_Name'],axis=1,inplace=True)\n",
    "rec"
   ]
  },
  {
   "cell_type": "markdown",
   "metadata": {},
   "source": [
    "<h5 class=\"list-group-item list-group-item-action active\" >2. Read the dataset called Menu_list_Carbohydrates.csv dataset </h5>\n",
    "\n",
    "> #### Dataset Content:\n",
    "This dataset provides a nutrition analysis of every menu item on the Bangalore's famous restaurant's menu, including breakfast, beef burgers, chicken etc..\n",
    "\n",
    "> ##### A. Display the dataset of dimensions,datatype, statistic summary.\n",
    "\n",
    "> ##### B. Which are the top 10 items that have the least Carbohydrates?\n",
    "\n",
    "> ##### C. Which are the top 10 items that have the most Carbohydrates?\n",
    "\n",
    "> ##### D. Display the bar graph for the frequncy of Categories of food items and write your observations.\n",
    "\n",
    "> ##### E. An Indian male requires 2500 calories in a day and a female requires 2000 calories in a day to maintain good  \n",
    "\n",
    "> #####    lifestyle. Find the solutions as displayed in sample output1 and 2.\n",
    "\n",
    "        Sample Output1:\n",
    "\n",
    "        * Average calories of 'Beverages' category is 796.67\n",
    "        * On an Average 'Beverages' contributes to men's calories intake  0.32\n",
    "        * On an Average 'Beverages' contributes to women's calories intake  0.4\n",
    "\n",
    "        Sample Output2:\n",
    "\n",
    "        * Average calories of 'Coffee & Tea' category is 323.33\n",
    "        * Averagely 'Coffee & Tea' contributes to men's calories intake for  0.13\n",
    "        * Averagely 'Coffee & Tea' contributes to women's calories intake for  0.16\n",
    "        \n",
    "        Steps to get the output1\n",
    "        1. For each item of Beverages display calorie and calculate the contribution of that food item in the male and females's daily calorie need. \n",
    "        2. Calculate average calories for the beverages category\n",
    "        3. Calculate average contribution of calorie for male's requirement using beverages category\n",
    "        4. Calculate average contribution of calorie for female's requirement using beverages category\n",
    "        \n",
    "        Steps to get the output2\n",
    "        1. For each item of 'Coffee & Tea' display calorie and calculate the contribution of that food item in the male and    females's daily calorie need. \n",
    "        2. Calculate average calories for the 'Coffee & Tea' category\n",
    "        3. Calculate average contribution of calorie for male's requirement using 'Coffee & Tea' category\n",
    "        4. Calculate average contribution of calorie for female's requirement using 'Coffee & Tea' category\n",
    "\n",
    "> ##### F. If you order grilled chicken rather than crispy chicken, what is the change in calorie intake?\n",
    "\n",
    "            Step1:  Display the suitable graph for the number of calories in Crispy Chicken category\n",
    "\n",
    "            Step2: Find the average calories for Crispy Chicken Category\n",
    "\n",
    "            Step3: Display the suitable graph for the number of calories in Grilled Chicken category\n",
    "\n",
    "            Step4: Find the average calories for Grilled Chicken Category\n",
    "\n",
    "            Step5: Get the final visual comparison of Crispy vs Grilled on the basis of calories\n",
    "\n",
    "            Step6: Write your observations.\n",
    "            \n",
    "> ##### G. Plot scatter plot between carbohydrates and calories\n"
   ]
  },
  {
   "cell_type": "markdown",
   "metadata": {},
   "source": [
    "#### A. Display the dataset of dimensions,datatype, statistic summary."
   ]
  },
  {
   "cell_type": "code",
   "execution_count": 5,
   "metadata": {},
   "outputs": [
    {
     "name": "stdout",
     "output_type": "stream",
     "text": [
      "(53, 6)\n",
      "<class 'pandas.core.frame.DataFrame'>\n",
      "       Carbohydrates    Sugars    Protein     Calories\n",
      "count      53.000000  53.00000  53.000000    53.000000\n",
      "mean       43.169811   8.45283  21.716981   523.207547\n",
      "std        29.685360   7.18590   9.841782   209.530369\n",
      "min         0.000000   0.00000   1.000000   150.000000\n",
      "25%        25.000000   3.00000  17.000000   410.000000\n",
      "50%        39.000000   7.00000  20.000000   480.000000\n",
      "75%        58.000000  14.00000  28.000000   600.000000\n",
      "max       135.000000  32.00000  48.000000  1150.000000\n"
     ]
    }
   ],
   "source": [
    "df = pd.read_csv('Menu_list_Carbohydrates.csv')\n",
    "print(df.shape)\n",
    "print(type(df))\n",
    "print(df.describe())"
   ]
  },
  {
   "cell_type": "markdown",
   "metadata": {},
   "source": [
    "#### B. Which are the top 10 items that have the least Carbohydrates?"
   ]
  },
  {
   "cell_type": "code",
   "execution_count": 6,
   "metadata": {},
   "outputs": [
    {
     "data": {
      "text/plain": [
       "38                                  Iced Tea (Large)\n",
       "37                                 Iced Tea (Medium)\n",
       "36                                  Iced Tea (Small)\n",
       "26                                      Apple Slices\n",
       "25                                        Side Salad\n",
       "31                               Kids Ice Cream Cone\n",
       "11    Premium Bacon Ranch Salad with Grilled Chicken\n",
       "9        Premium Bacon Ranch Salad (without Chicken)\n",
       "24                                 Kids French Fries\n",
       "12         Premium Southwest Salad (without Chicken)\n",
       "Name: Item_in_Menu, dtype: object"
      ]
     },
     "execution_count": 6,
     "metadata": {},
     "output_type": "execute_result"
    }
   ],
   "source": [
    "leastcarb = df.sort_values('Carbohydrates',ascending=True)\n",
    "leastcarb.Item_in_Menu.head(10)"
   ]
  },
  {
   "cell_type": "markdown",
   "metadata": {},
   "source": [
    "#### C. Which are the top 10 items that have the most Carbohydrates?"
   ]
  },
  {
   "cell_type": "code",
   "execution_count": 7,
   "metadata": {},
   "outputs": [
    {
     "data": {
      "text/plain": [
       "50                     Vanilla Shake (Large)\n",
       "52                 Strawberry Shake (Medium)\n",
       "49                    Vanilla Shake (Medium)\n",
       "51                  Strawberry Shake (Small)\n",
       "48                     Vanilla Shake (Small)\n",
       "41    Blueberry Pomegranate Smoothie (Large)\n",
       "47          Mango Pineapple Smoothie (Large)\n",
       "35                 Coca-Cola Classic (Large)\n",
       "44        Strawberry Banana Smoothie (Large)\n",
       "23                        Large French Fries\n",
       "Name: Item_in_Menu, dtype: object"
      ]
     },
     "execution_count": 7,
     "metadata": {},
     "output_type": "execute_result"
    }
   ],
   "source": [
    "mostcarb = df.sort_values('Carbohydrates',ascending=False)\n",
    "mostcarb.Item_in_Menu.head(10)"
   ]
  },
  {
   "cell_type": "markdown",
   "metadata": {},
   "source": [
    "#### D. Display the bar graph for frequncy of `Categories` of food items and write your observations."
   ]
  },
  {
   "cell_type": "code",
   "execution_count": 8,
   "metadata": {},
   "outputs": [
    {
     "data": {
      "text/plain": [
       "'\\nOBSERVATIONS : \\n                \\nBreakfast, Beef&Pork, Chicken&Fish, Beverages, Coffee&Tea has equal number of items in menu i.e 3 items. \\nBreakfast, Beef&Pork, Chicken&Fish, Beverages, Coffee&Tea have the least number of items in the menu\\nSmoothies & Shakes have the most number of items in the menu i.e 14 items\\nSnacks & Slides have second most number of items in the menu i.e 13 items\\n\\n'"
      ]
     },
     "execution_count": 8,
     "metadata": {},
     "output_type": "execute_result"
    },
    {
     "data": {
      "image/png": "[encoded data removed]",
      "text/plain": [
       "<Figure size 432x288 with 1 Axes>"
      ]
     },
     "metadata": {
      "needs_background": "light"
     },
     "output_type": "display_data"
    }
   ],
   "source": [
    "import matplotlib.pyplot as plt\n",
    "a = plt.hist(data=df,x='Category_Type',bins=9,rwidth=0.5,histtype='bar',)\n",
    "plt.xticks(rotation = 90)\n",
    "\n",
    "'''\n",
    "OBSERVATIONS : \n",
    "                \n",
    "Breakfast, Beef&Pork, Chicken&Fish, Beverages, Coffee&Tea has equal number of items in menu i.e 3 items. \n",
    "Breakfast, Beef&Pork, Chicken&Fish, Beverages, Coffee&Tea have the least number of items in the menu\n",
    "Smoothies & Shakes have the most number of items in the menu i.e 14 items\n",
    "Snacks & Slides have second most number of items in the menu i.e 13 items\n",
    "\n",
    "'''"
   ]
  },
  {
   "cell_type": "markdown",
   "metadata": {},
   "source": [
    "#### E. An Indian male requires 2500 calories in a day and a female requires 2000 calories in a day to maintain good lifestyle. Find the solutions as displayed in sample output1 and 2.\n",
    "    Sample Output1:\n",
    "\n",
    "    * Average calories of 'Beverages' category is 796.67\n",
    "    * On an Average 'Beverages' contributes to men's calories intake  0.32\n",
    "    * On an Average 'Beverages' contributes to women's calories intake  0.4\n",
    "    \n",
    "    Steps to get the output1\n",
    "    1. For each item of Beverages display calorie and calculate the contribution of that food item in the male and females's daily calorie need. \n",
    "    2. Calculate average calories for the beverages category\n",
    "    3. Calculate average contribution of calorie for male's requirement using beverages category\n",
    "    4. Calculate average contribution of calorie for female's requirement using beverages category\n"
   ]
  },
  {
   "cell_type": "code",
   "execution_count": 9,
   "metadata": {},
   "outputs": [
    {
     "data": {
      "text/html": [
       "<div>\n",
       "<style scoped>\n",
       "    .dataframe tbody tr th:only-of-type {\n",
       "        vertical-align: middle;\n",
       "    }\n",
       "\n",
       "    .dataframe tbody tr th {\n",
       "        vertical-align: top;\n",
       "    }\n",
       "\n",
       "    .dataframe thead th {\n",
       "        text-align: right;\n",
       "    }\n",
       "</style>\n",
       "<table border=\"1\" class=\"dataframe\">\n",
       "  <thead>\n",
       "    <tr style=\"text-align: right;\">\n",
       "      <th></th>\n",
       "      <th>Category_Type</th>\n",
       "      <th>Item_in_Menu</th>\n",
       "      <th>Carbohydrates</th>\n",
       "      <th>Sugars</th>\n",
       "      <th>Protein</th>\n",
       "      <th>Calories</th>\n",
       "    </tr>\n",
       "  </thead>\n",
       "  <tbody>\n",
       "    <tr>\n",
       "      <th>33</th>\n",
       "      <td>Beverages</td>\n",
       "      <td>Coca-Cola Classic (Small)</td>\n",
       "      <td>39</td>\n",
       "      <td>17</td>\n",
       "      <td>35</td>\n",
       "      <td>990</td>\n",
       "    </tr>\n",
       "    <tr>\n",
       "      <th>34</th>\n",
       "      <td>Beverages</td>\n",
       "      <td>Coca-Cola Classic (Medium)</td>\n",
       "      <td>55</td>\n",
       "      <td>18</td>\n",
       "      <td>35</td>\n",
       "      <td>1050</td>\n",
       "    </tr>\n",
       "    <tr>\n",
       "      <th>35</th>\n",
       "      <td>Beverages</td>\n",
       "      <td>Coca-Cola Classic (Large)</td>\n",
       "      <td>76</td>\n",
       "      <td>14</td>\n",
       "      <td>8</td>\n",
       "      <td>350</td>\n",
       "    </tr>\n",
       "  </tbody>\n",
       "</table>\n",
       "</div>"
      ],
      "text/plain": [
       "   Category_Type                Item_in_Menu  Carbohydrates  Sugars  Protein  \\\n",
       "33     Beverages   Coca-Cola Classic (Small)             39      17       35   \n",
       "34     Beverages  Coca-Cola Classic (Medium)             55      18       35   \n",
       "35     Beverages   Coca-Cola Classic (Large)             76      14        8   \n",
       "\n",
       "    Calories  \n",
       "33       990  \n",
       "34      1050  \n",
       "35       350  "
      ]
     },
     "execution_count": 9,
     "metadata": {},
     "output_type": "execute_result"
    }
   ],
   "source": [
    "df[df['Category_Type']=='Beverages']"
   ]
  },
  {
   "cell_type": "code",
   "execution_count": 10,
   "metadata": {},
   "outputs": [
    {
     "name": "stdout",
     "output_type": "stream",
     "text": [
      "Average calories of 'Beverages' category is:  796.67\n"
     ]
    }
   ],
   "source": [
    "a = df[df['Category_Type']=='Beverages'][['Calories']].mean()\n",
    "print(\"Average calories of 'Beverages' category is: \",a['Calories'].round(decimals=2))"
   ]
  },
  {
   "cell_type": "code",
   "execution_count": 11,
   "metadata": {},
   "outputs": [
    {
     "name": "stdout",
     "output_type": "stream",
     "text": [
      "On an Average 'Beverages' contributes to men's calories intake :  0.32\n"
     ]
    }
   ],
   "source": [
    "avg2 = (a/2500*100)/100\n",
    "print(\"On an Average 'Beverages' contributes to men's calories intake : \",avg2['Calories'].round(decimals=2))"
   ]
  },
  {
   "cell_type": "code",
   "execution_count": 12,
   "metadata": {},
   "outputs": [
    {
     "name": "stdout",
     "output_type": "stream",
     "text": [
      "On an Average 'Beverages' contributes to Women's calories intake :  0.4\n"
     ]
    }
   ],
   "source": [
    "avg3 = (a/2000*100)/100\n",
    "print(\"On an Average 'Beverages' contributes to Women's calories intake : \",avg3['Calories'].round(decimals=2))"
   ]
  },
  {
   "cell_type": "markdown",
   "metadata": {},
   "source": [
    "**Sample Output2**\n",
    "\n",
    "* Average calories of 'Coffee & Tea' category is 323.33\n",
    "* Averagely 'Coffee & Tea' contributes to men's calories intake for  0.13\n",
    "* Averagely 'Coffee & Tea' contributes to women's calories intake for  0.16\n",
    "\n",
    "    Steps to get the output2\n",
    "    1. For each item of 'Coffee & Tea' display calorie and calculate the contribution of that food item in the male and    females's daily calorie need. \n",
    "    2. Calculate average calories for the 'Coffee & Tea' category\n",
    "    3. Calculate average contribution of calorie for male's requirement using 'Coffee & Tea' category\n",
    "    4. Calculate average contribution of calorie for female's requirement using 'Coffee & Tea' category"
   ]
  },
  {
   "cell_type": "code",
   "execution_count": 13,
   "metadata": {},
   "outputs": [
    {
     "data": {
      "text/html": [
       "<div>\n",
       "<style scoped>\n",
       "    .dataframe tbody tr th:only-of-type {\n",
       "        vertical-align: middle;\n",
       "    }\n",
       "\n",
       "    .dataframe tbody tr th {\n",
       "        vertical-align: top;\n",
       "    }\n",
       "\n",
       "    .dataframe thead th {\n",
       "        text-align: right;\n",
       "    }\n",
       "</style>\n",
       "<table border=\"1\" class=\"dataframe\">\n",
       "  <thead>\n",
       "    <tr style=\"text-align: right;\">\n",
       "      <th></th>\n",
       "      <th>Category_Type</th>\n",
       "      <th>Item_in_Menu</th>\n",
       "      <th>Carbohydrates</th>\n",
       "      <th>Sugars</th>\n",
       "      <th>Protein</th>\n",
       "      <th>Calories</th>\n",
       "    </tr>\n",
       "  </thead>\n",
       "  <tbody>\n",
       "    <tr>\n",
       "      <th>36</th>\n",
       "      <td>Coffee &amp; Tea</td>\n",
       "      <td>Iced Tea (Small)</td>\n",
       "      <td>0</td>\n",
       "      <td>14</td>\n",
       "      <td>15</td>\n",
       "      <td>520</td>\n",
       "    </tr>\n",
       "    <tr>\n",
       "      <th>37</th>\n",
       "      <td>Coffee &amp; Tea</td>\n",
       "      <td>Iced Tea (Medium)</td>\n",
       "      <td>0</td>\n",
       "      <td>2</td>\n",
       "      <td>12</td>\n",
       "      <td>300</td>\n",
       "    </tr>\n",
       "    <tr>\n",
       "      <th>38</th>\n",
       "      <td>Coffee &amp; Tea</td>\n",
       "      <td>Iced Tea (Large)</td>\n",
       "      <td>0</td>\n",
       "      <td>0</td>\n",
       "      <td>1</td>\n",
       "      <td>150</td>\n",
       "    </tr>\n",
       "  </tbody>\n",
       "</table>\n",
       "</div>"
      ],
      "text/plain": [
       "   Category_Type       Item_in_Menu  Carbohydrates  Sugars  Protein  Calories\n",
       "36  Coffee & Tea   Iced Tea (Small)              0      14       15       520\n",
       "37  Coffee & Tea  Iced Tea (Medium)              0       2       12       300\n",
       "38  Coffee & Tea   Iced Tea (Large)              0       0        1       150"
      ]
     },
     "execution_count": 13,
     "metadata": {},
     "output_type": "execute_result"
    }
   ],
   "source": [
    "av=df[df['Category_Type']=='Coffee & Tea']\n",
    "av"
   ]
  },
  {
   "cell_type": "code",
   "execution_count": 14,
   "metadata": {},
   "outputs": [
    {
     "name": "stdout",
     "output_type": "stream",
     "text": [
      "average calories for the 'Coffee & Tea' category is :  323.3333333333333\n"
     ]
    }
   ],
   "source": [
    "av=df[df['Category_Type']=='Coffee & Tea'][['Calories']].mean()\n",
    "print(\"average calories for the 'Coffee & Tea' category is : \",av['Calories'])"
   ]
  },
  {
   "cell_type": "code",
   "execution_count": 15,
   "metadata": {},
   "outputs": [
    {
     "name": "stdout",
     "output_type": "stream",
     "text": [
      "Averagely 'Coffee & Tea' contributes to women's calories intake for :  0.16\n"
     ]
    }
   ],
   "source": [
    "avg = (av/2000*100)/100\n",
    "print(\"Averagely 'Coffee & Tea' contributes to women's calories intake for : \",avg['Calories'].round(decimals=2))"
   ]
  },
  {
   "cell_type": "code",
   "execution_count": 16,
   "metadata": {},
   "outputs": [
    {
     "name": "stdout",
     "output_type": "stream",
     "text": [
      "Averagely 'Coffee & Tea' contributes to women's calories intake for :  0.13\n"
     ]
    }
   ],
   "source": [
    "avg1 = (av/2500*100)/100\n",
    "print(\"Averagely 'Coffee & Tea' contributes to women's calories intake for : \",avg1['Calories'].round(decimals=2))"
   ]
  },
  {
   "cell_type": "markdown",
   "metadata": {},
   "source": [
    "#### F. If you order grilled chicken rather than crispy chicken, what is the change in calorie intake?\n",
    "        Step1:  Display the suitable graph for the number of calories in Crispy Chicken category\n",
    "\n",
    "        Step2: Find the average calories for Crispy Chicken Category\n",
    "\n",
    "        Step3: Display the suitable graph for the number of calories in Grilled Chicken category\n",
    "\n",
    "        Step4: Find the average calories for Grilled Chicken Category\n",
    "\n",
    "        Step5: Get the final visual comparison of Crispy vs Grilled on the basis of calories\n",
    "\n",
    "        Step6: Write your observations."
   ]
  },
  {
   "cell_type": "markdown",
   "metadata": {},
   "source": [
    "##### Step1: Display the suitable graph for the number of calories in Crispy Chicken category"
   ]
  },
  {
   "cell_type": "code",
   "execution_count": 17,
   "metadata": {},
   "outputs": [
    {
     "data": {
      "text/plain": [
       "(array([0, 1, 2, 3, 4, 5]),\n",
       " [Text(0, 0, 'Premium Crispy Chicken Club Sandwich'),\n",
       "  Text(1, 0, 'Premium Bacon Ranch Salad with Crispy Chicken'),\n",
       "  Text(2, 0, 'Premium Southwest Salad with Crispy Chicken'),\n",
       "  Text(3, 0, 'Chipotle BBQ Snack Wrap (Crispy Chicken)'),\n",
       "  Text(4, 0, 'Honey Mustard Snack Wrap (Crispy Chicken)'),\n",
       "  Text(5, 0, 'Ranch Snack Wrap (Crispy Chicken)')])"
      ]
     },
     "execution_count": 17,
     "metadata": {},
     "output_type": "execute_result"
    },
    {
     "data": {
      "image/png": "[encoded data removed]",
      "text/plain": [
       "<Figure size 432x288 with 1 Axes>"
      ]
     },
     "metadata": {
      "needs_background": "light"
     },
     "output_type": "display_data"
    }
   ],
   "source": [
    "import seaborn as sns\n",
    "crispy = df.iloc[[8,10,13,15,17,19]]\n",
    "sns.barplot(data=crispy,y='Calories',x='Item_in_Menu')\n",
    "plt.xticks(rotation = 85)"
   ]
  },
  {
   "cell_type": "markdown",
   "metadata": {},
   "source": [
    "##### Step2: Find the average calories for Crispy Chicken Category"
   ]
  },
  {
   "cell_type": "code",
   "execution_count": 18,
   "metadata": {},
   "outputs": [
    {
     "data": {
      "text/plain": [
       "476.6666666666667"
      ]
     },
     "execution_count": 18,
     "metadata": {},
     "output_type": "execute_result"
    }
   ],
   "source": [
    "crispy['Calories'].mean()"
   ]
  },
  {
   "cell_type": "markdown",
   "metadata": {},
   "source": [
    "##### Step3: Display the suitable graph for the number of calories in Grilled Chicken category"
   ]
  },
  {
   "cell_type": "code",
   "execution_count": 19,
   "metadata": {},
   "outputs": [
    {
     "data": {
      "text/plain": [
       "(array([0, 1, 2, 3, 4, 5]),\n",
       " [Text(0, 0, 'Premium Grilled Chicken Classic Sandwich'),\n",
       "  Text(1, 0, 'Premium Bacon Ranch Salad with Grilled Chicken'),\n",
       "  Text(2, 0, 'Premium Southwest Salad with Grilled Chicken'),\n",
       "  Text(3, 0, 'Chipotle BBQ Snack Wrap (Grilled Chicken)'),\n",
       "  Text(4, 0, 'Honey Mustard Snack Wrap (Grilled Chicken)'),\n",
       "  Text(5, 0, 'Ranch Snack Wrap (Grilled Chicken)')])"
      ]
     },
     "execution_count": 19,
     "metadata": {},
     "output_type": "execute_result"
    },
    {
     "data": {
      "image/png": "[encoded data removed]",
      "text/plain": [
       "<Figure size 432x288 with 1 Axes>"
      ]
     },
     "metadata": {
      "needs_background": "light"
     },
     "output_type": "display_data"
    }
   ],
   "source": [
    "grilled = df.iloc[[7,11,14,16,18,20]]\n",
    "sns.barplot(data=grilled,y='Calories',x='Item_in_Menu')\n",
    "plt.xticks(rotation = 85)"
   ]
  },
  {
   "cell_type": "markdown",
   "metadata": {},
   "source": [
    "##### Step4:Find the average calories for Grilled Chicken Category"
   ]
  },
  {
   "cell_type": "code",
   "execution_count": 20,
   "metadata": {},
   "outputs": [
    {
     "data": {
      "text/plain": [
       "468.3333333333333"
      ]
     },
     "execution_count": 20,
     "metadata": {},
     "output_type": "execute_result"
    }
   ],
   "source": [
    "grilled['Calories'].mean()"
   ]
  },
  {
   "cell_type": "markdown",
   "metadata": {},
   "source": [
    "##### Step 5: Get the final visual comparison of Crispy vs Grilled on the basis of calories"
   ]
  },
  {
   "cell_type": "code",
   "execution_count": 21,
   "metadata": {
    "scrolled": true
   },
   "outputs": [
    {
     "data": {
      "text/plain": [
       "[<matplotlib.lines.Line2D at 0x7fd054a5ca90>]"
      ]
     },
     "execution_count": 21,
     "metadata": {},
     "output_type": "execute_result"
    },
    {
     "data": {
      "image/png": "[encoded data removed]",
      "text/plain": [
       "<Figure size 432x288 with 1 Axes>"
      ]
     },
     "metadata": {
      "needs_background": "light"
     },
     "output_type": "display_data"
    }
   ],
   "source": [
    "plt.plot(grilled.Calories,ls='dashed',marker='o',label='Grilled')\n",
    "plt.plot(crispy.Calories,marker=0,label='Crispy')"
   ]
  },
  {
   "cell_type": "code",
   "execution_count": 22,
   "metadata": {},
   "outputs": [
    {
     "data": {
      "text/html": [
       "<div>\n",
       "<style scoped>\n",
       "    .dataframe tbody tr th:only-of-type {\n",
       "        vertical-align: middle;\n",
       "    }\n",
       "\n",
       "    .dataframe tbody tr th {\n",
       "        vertical-align: top;\n",
       "    }\n",
       "\n",
       "    .dataframe thead th {\n",
       "        text-align: right;\n",
       "    }\n",
       "</style>\n",
       "<table border=\"1\" class=\"dataframe\">\n",
       "  <thead>\n",
       "    <tr style=\"text-align: right;\">\n",
       "      <th></th>\n",
       "      <th>Category_Type</th>\n",
       "      <th>Item_in_Menu</th>\n",
       "      <th>Carbohydrates</th>\n",
       "      <th>Sugars</th>\n",
       "      <th>Protein</th>\n",
       "      <th>Calories</th>\n",
       "    </tr>\n",
       "  </thead>\n",
       "  <tbody>\n",
       "    <tr>\n",
       "      <th>7</th>\n",
       "      <td>Chicken &amp; Fish</td>\n",
       "      <td>Premium Grilled Chicken Classic Sandwich</td>\n",
       "      <td>42</td>\n",
       "      <td>4</td>\n",
       "      <td>19</td>\n",
       "      <td>520</td>\n",
       "    </tr>\n",
       "    <tr>\n",
       "      <th>11</th>\n",
       "      <td>Salads</td>\n",
       "      <td>Premium Bacon Ranch Salad with Grilled Chicken</td>\n",
       "      <td>8</td>\n",
       "      <td>3</td>\n",
       "      <td>11</td>\n",
       "      <td>480</td>\n",
       "    </tr>\n",
       "    <tr>\n",
       "      <th>14</th>\n",
       "      <td>Salads</td>\n",
       "      <td>Premium Southwest Salad with Grilled Chicken</td>\n",
       "      <td>28</td>\n",
       "      <td>3</td>\n",
       "      <td>18</td>\n",
       "      <td>460</td>\n",
       "    </tr>\n",
       "    <tr>\n",
       "      <th>16</th>\n",
       "      <td>Snacks &amp; Sides</td>\n",
       "      <td>Chipotle BBQ Snack Wrap (Grilled Chicken)</td>\n",
       "      <td>30</td>\n",
       "      <td>3</td>\n",
       "      <td>17</td>\n",
       "      <td>410</td>\n",
       "    </tr>\n",
       "    <tr>\n",
       "      <th>18</th>\n",
       "      <td>Snacks &amp; Sides</td>\n",
       "      <td>Honey Mustard Snack Wrap (Grilled Chicken)</td>\n",
       "      <td>27</td>\n",
       "      <td>3</td>\n",
       "      <td>25</td>\n",
       "      <td>540</td>\n",
       "    </tr>\n",
       "    <tr>\n",
       "      <th>20</th>\n",
       "      <td>Snacks &amp; Sides</td>\n",
       "      <td>Ranch Snack Wrap (Grilled Chicken)</td>\n",
       "      <td>25</td>\n",
       "      <td>16</td>\n",
       "      <td>20</td>\n",
       "      <td>400</td>\n",
       "    </tr>\n",
       "  </tbody>\n",
       "</table>\n",
       "</div>"
      ],
      "text/plain": [
       "     Category_Type                                    Item_in_Menu  \\\n",
       "7   Chicken & Fish        Premium Grilled Chicken Classic Sandwich   \n",
       "11          Salads  Premium Bacon Ranch Salad with Grilled Chicken   \n",
       "14          Salads    Premium Southwest Salad with Grilled Chicken   \n",
       "16  Snacks & Sides       Chipotle BBQ Snack Wrap (Grilled Chicken)   \n",
       "18  Snacks & Sides      Honey Mustard Snack Wrap (Grilled Chicken)   \n",
       "20  Snacks & Sides              Ranch Snack Wrap (Grilled Chicken)   \n",
       "\n",
       "    Carbohydrates  Sugars  Protein  Calories  \n",
       "7              42       4       19       520  \n",
       "11              8       3       11       480  \n",
       "14             28       3       18       460  \n",
       "16             30       3       17       410  \n",
       "18             27       3       25       540  \n",
       "20             25      16       20       400  "
      ]
     },
     "execution_count": 22,
     "metadata": {},
     "output_type": "execute_result"
    }
   ],
   "source": [
    "grilled"
   ]
  },
  {
   "cell_type": "code",
   "execution_count": 23,
   "metadata": {},
   "outputs": [
    {
     "data": {
      "text/html": [
       "<div>\n",
       "<style scoped>\n",
       "    .dataframe tbody tr th:only-of-type {\n",
       "        vertical-align: middle;\n",
       "    }\n",
       "\n",
       "    .dataframe tbody tr th {\n",
       "        vertical-align: top;\n",
       "    }\n",
       "\n",
       "    .dataframe thead th {\n",
       "        text-align: right;\n",
       "    }\n",
       "</style>\n",
       "<table border=\"1\" class=\"dataframe\">\n",
       "  <thead>\n",
       "    <tr style=\"text-align: right;\">\n",
       "      <th></th>\n",
       "      <th>Category_Type</th>\n",
       "      <th>Item_in_Menu</th>\n",
       "      <th>Carbohydrates</th>\n",
       "      <th>Sugars</th>\n",
       "      <th>Protein</th>\n",
       "      <th>Calories</th>\n",
       "    </tr>\n",
       "  </thead>\n",
       "  <tbody>\n",
       "    <tr>\n",
       "      <th>8</th>\n",
       "      <td>Chicken &amp; Fish</td>\n",
       "      <td>Premium Crispy Chicken Club Sandwich</td>\n",
       "      <td>58</td>\n",
       "      <td>3</td>\n",
       "      <td>20</td>\n",
       "      <td>410</td>\n",
       "    </tr>\n",
       "    <tr>\n",
       "      <th>10</th>\n",
       "      <td>Salads</td>\n",
       "      <td>Premium Bacon Ranch Salad with Crispy Chicken</td>\n",
       "      <td>22</td>\n",
       "      <td>2</td>\n",
       "      <td>11</td>\n",
       "      <td>430</td>\n",
       "    </tr>\n",
       "    <tr>\n",
       "      <th>13</th>\n",
       "      <td>Salads</td>\n",
       "      <td>Premium Southwest Salad with Crispy Chicken</td>\n",
       "      <td>42</td>\n",
       "      <td>3</td>\n",
       "      <td>18</td>\n",
       "      <td>570</td>\n",
       "    </tr>\n",
       "    <tr>\n",
       "      <th>15</th>\n",
       "      <td>Snacks &amp; Sides</td>\n",
       "      <td>Chipotle BBQ Snack Wrap (Crispy Chicken)</td>\n",
       "      <td>37</td>\n",
       "      <td>3</td>\n",
       "      <td>18</td>\n",
       "      <td>520</td>\n",
       "    </tr>\n",
       "    <tr>\n",
       "      <th>17</th>\n",
       "      <td>Snacks &amp; Sides</td>\n",
       "      <td>Honey Mustard Snack Wrap (Crispy Chicken)</td>\n",
       "      <td>34</td>\n",
       "      <td>4</td>\n",
       "      <td>17</td>\n",
       "      <td>470</td>\n",
       "    </tr>\n",
       "    <tr>\n",
       "      <th>19</th>\n",
       "      <td>Snacks &amp; Sides</td>\n",
       "      <td>Ranch Snack Wrap (Crispy Chicken)</td>\n",
       "      <td>32</td>\n",
       "      <td>15</td>\n",
       "      <td>19</td>\n",
       "      <td>460</td>\n",
       "    </tr>\n",
       "  </tbody>\n",
       "</table>\n",
       "</div>"
      ],
      "text/plain": [
       "     Category_Type                                   Item_in_Menu  \\\n",
       "8   Chicken & Fish           Premium Crispy Chicken Club Sandwich   \n",
       "10          Salads  Premium Bacon Ranch Salad with Crispy Chicken   \n",
       "13          Salads    Premium Southwest Salad with Crispy Chicken   \n",
       "15  Snacks & Sides       Chipotle BBQ Snack Wrap (Crispy Chicken)   \n",
       "17  Snacks & Sides      Honey Mustard Snack Wrap (Crispy Chicken)   \n",
       "19  Snacks & Sides              Ranch Snack Wrap (Crispy Chicken)   \n",
       "\n",
       "    Carbohydrates  Sugars  Protein  Calories  \n",
       "8              58       3       20       410  \n",
       "10             22       2       11       430  \n",
       "13             42       3       18       570  \n",
       "15             37       3       18       520  \n",
       "17             34       4       17       470  \n",
       "19             32      15       19       460  "
      ]
     },
     "execution_count": 23,
     "metadata": {},
     "output_type": "execute_result"
    }
   ],
   "source": [
    "crispy"
   ]
  },
  {
   "cell_type": "markdown",
   "metadata": {},
   "source": [
    "##### Step6: Write your observations"
   ]
  },
  {
   "cell_type": "markdown",
   "metadata": {},
   "source": [
    "1. Grilled chicken items are lower in calories as compared to crispy chicken items\n",
    "2. total number of grilled items is equal to the total number of crispy items.\n",
    "3. Grilled chicken wraps have more protein than crispy chicken wraps\n",
    "4. ranch snack wrap has most sugar content in both grilled and crispy category\n",
    "5. crispy items have more carbohydrate as compared to grilled chicken items "
   ]
  },
  {
   "cell_type": "markdown",
   "metadata": {},
   "source": [
    "##### G. Plot scatter plot between carbohydrates and calories"
   ]
  },
  {
   "cell_type": "code",
   "execution_count": 24,
   "metadata": {},
   "outputs": [
    {
     "data": {
      "text/plain": [
       "<matplotlib.collections.PathCollection at 0x7fd054b21f40>"
      ]
     },
     "execution_count": 24,
     "metadata": {},
     "output_type": "execute_result"
    },
    {
     "data": {
      "image/png": "[encoded data removed]",
      "text/plain": [
       "<Figure size 432x288 with 1 Axes>"
      ]
     },
     "metadata": {
      "needs_background": "light"
     },
     "output_type": "display_data"
    }
   ],
   "source": [
    "plt.scatter(x=df.Carbohydrates,y=df.Calories)"
   ]
  },
  {
   "cell_type": "code",
   "execution_count": null,
   "metadata": {},
   "outputs": [],
   "source": []
  }
 ],
 "metadata": {
  "kernelspec": {
   "display_name": "Python 3 (ipykernel)",
   "language": "python",
   "name": "python3"
  },
  "language_info": {
   "codemirror_mode": {
    "name": "ipython",
    "version": 3
   },
   "file_extension": ".py",
   "mimetype": "text/x-python",
   "name": "python",
   "nbconvert_exporter": "python",
   "pygments_lexer": "ipython3",
   "version": "3.9.12"
  }
 },
 "nbformat": 4,
 "nbformat_minor": 4
}
