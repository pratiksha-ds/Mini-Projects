{
 "cells": [
  {
   "attachments": {
    "image.png": {
     "image/png": "[encoded data removed]"
    }
   },
   "cell_type": "markdown",
   "id": "3027ea86",
   "metadata": {},
   "source": [
    "# ![image.png](attachment:image.png)"
   ]
  },
  {
   "cell_type": "markdown",
   "id": "db8cc1c8",
   "metadata": {},
   "source": [
    "1. Perform the following statistical analysis on the fifa world cup dataset. The dataset consists of player information, which includes height; weight overall rating, potential etc. Data Cleaning and basic EDA process needs to be performed. \n",
    "\n",
    "a)\tAssuming age as population, perform the central limit theorem with sample size of 200. Find the standard error and the mean of sampling distribution. Compare the results with population mean and standard deviation. Explain in non-technical terms why the estimated standard error of a sample mean tends to decrease with an increase in sample size\n",
    "\n",
    "b)\tIs there any evidence that the players overall rating is greater than 80?\n",
    "\n",
    "c)\tPerform the statistical test to identify whether preferred foot has any impact on potential. Also, perform the graphical analysis.\n",
    "\n",
    "d)\tPerform the statistical test to identify the relation between the overall rating and potential. [Assume both are continuous data points].\n",
    "\n",
    "e)\tDoes skill move have any effect in overall rating? Perform the graphical analysis and the statistical analysis.\n",
    "\n",
    "Note: \n",
    "1) Perform all the Statistical analysis with 5% (Significance level). \n",
    "       2) Assume all the features are normally distributed and have equal variance.\n",
    "\n"
   ]
  },
  {
   "cell_type": "code",
   "execution_count": 94,
   "id": "a8ae9910",
   "metadata": {},
   "outputs": [],
   "source": [
    "import numpy as np\n",
    "import pandas as pd\n",
    "import matplotlib.pyplot as plt\n",
    "import seaborn as sns\n",
    "import scipy.stats as stats\n",
    "from statsmodels.stats import weightstats\n",
    "import random\n",
    "from scipy.stats import chi2_contingency\n",
    "from scipy.stats import chi2\n",
    "from scipy.stats import chisquare"
   ]
  },
  {
   "cell_type": "code",
   "execution_count": 5,
   "id": "d47be1f1",
   "metadata": {},
   "outputs": [],
   "source": [
    "fifa = pd.read_csv(\"fifa_stats.csv\")"
   ]
  },
  {
   "cell_type": "code",
   "execution_count": 7,
   "id": "6d83b7e3",
   "metadata": {},
   "outputs": [
    {
     "data": {
      "text/html": [
       "<div>\n",
       "<style scoped>\n",
       "    .dataframe tbody tr th:only-of-type {\n",
       "        vertical-align: middle;\n",
       "    }\n",
       "\n",
       "    .dataframe tbody tr th {\n",
       "        vertical-align: top;\n",
       "    }\n",
       "\n",
       "    .dataframe thead th {\n",
       "        text-align: right;\n",
       "    }\n",
       "</style>\n",
       "<table border=\"1\" class=\"dataframe\">\n",
       "  <thead>\n",
       "    <tr style=\"text-align: right;\">\n",
       "      <th></th>\n",
       "      <th>Name</th>\n",
       "      <th>Age</th>\n",
       "      <th>Nationality</th>\n",
       "      <th>Overall_rating</th>\n",
       "      <th>Potential</th>\n",
       "      <th>Club</th>\n",
       "      <th>Preferred Foot</th>\n",
       "      <th>International Reputation</th>\n",
       "      <th>Weak Foot</th>\n",
       "      <th>Skill Moves</th>\n",
       "      <th>Work Rate</th>\n",
       "      <th>Position</th>\n",
       "      <th>Jersey Number</th>\n",
       "      <th>Height</th>\n",
       "      <th>Weight</th>\n",
       "    </tr>\n",
       "  </thead>\n",
       "  <tbody>\n",
       "    <tr>\n",
       "      <th>0</th>\n",
       "      <td>L. Messi</td>\n",
       "      <td>31</td>\n",
       "      <td>Argentina</td>\n",
       "      <td>94</td>\n",
       "      <td>94</td>\n",
       "      <td>FC Barcelona</td>\n",
       "      <td>Left</td>\n",
       "      <td>5</td>\n",
       "      <td>4</td>\n",
       "      <td>4</td>\n",
       "      <td>Medium/ Medium</td>\n",
       "      <td>RF</td>\n",
       "      <td>10</td>\n",
       "      <td>5.583333</td>\n",
       "      <td>159</td>\n",
       "    </tr>\n",
       "    <tr>\n",
       "      <th>1</th>\n",
       "      <td>Cristiano Ronaldo</td>\n",
       "      <td>33</td>\n",
       "      <td>Portugal</td>\n",
       "      <td>94</td>\n",
       "      <td>94</td>\n",
       "      <td>Juventus</td>\n",
       "      <td>Right</td>\n",
       "      <td>5</td>\n",
       "      <td>4</td>\n",
       "      <td>5</td>\n",
       "      <td>High/ Low</td>\n",
       "      <td>ST</td>\n",
       "      <td>7</td>\n",
       "      <td>6.166667</td>\n",
       "      <td>183</td>\n",
       "    </tr>\n",
       "    <tr>\n",
       "      <th>2</th>\n",
       "      <td>Neymar Jr</td>\n",
       "      <td>26</td>\n",
       "      <td>Brazil</td>\n",
       "      <td>92</td>\n",
       "      <td>93</td>\n",
       "      <td>Paris Saint-Germain</td>\n",
       "      <td>Right</td>\n",
       "      <td>5</td>\n",
       "      <td>5</td>\n",
       "      <td>5</td>\n",
       "      <td>High/ Medium</td>\n",
       "      <td>LW</td>\n",
       "      <td>10</td>\n",
       "      <td>5.750000</td>\n",
       "      <td>150</td>\n",
       "    </tr>\n",
       "    <tr>\n",
       "      <th>3</th>\n",
       "      <td>De Gea</td>\n",
       "      <td>27</td>\n",
       "      <td>Spain</td>\n",
       "      <td>91</td>\n",
       "      <td>93</td>\n",
       "      <td>Manchester United</td>\n",
       "      <td>Right</td>\n",
       "      <td>4</td>\n",
       "      <td>3</td>\n",
       "      <td>1</td>\n",
       "      <td>Medium/ Medium</td>\n",
       "      <td>GK</td>\n",
       "      <td>1</td>\n",
       "      <td>6.333333</td>\n",
       "      <td>168</td>\n",
       "    </tr>\n",
       "    <tr>\n",
       "      <th>4</th>\n",
       "      <td>K. De Bruyne</td>\n",
       "      <td>27</td>\n",
       "      <td>Belgium</td>\n",
       "      <td>91</td>\n",
       "      <td>92</td>\n",
       "      <td>Manchester City</td>\n",
       "      <td>Right</td>\n",
       "      <td>4</td>\n",
       "      <td>5</td>\n",
       "      <td>4</td>\n",
       "      <td>High/ High</td>\n",
       "      <td>RCM</td>\n",
       "      <td>7</td>\n",
       "      <td>5.083333</td>\n",
       "      <td>154</td>\n",
       "    </tr>\n",
       "  </tbody>\n",
       "</table>\n",
       "</div>"
      ],
      "text/plain": [
       "                Name  Age Nationality  Overall_rating  Potential  \\\n",
       "0           L. Messi   31   Argentina              94         94   \n",
       "1  Cristiano Ronaldo   33    Portugal              94         94   \n",
       "2          Neymar Jr   26      Brazil              92         93   \n",
       "3             De Gea   27       Spain              91         93   \n",
       "4       K. De Bruyne   27     Belgium              91         92   \n",
       "\n",
       "                  Club Preferred Foot  International Reputation  Weak Foot  \\\n",
       "0         FC Barcelona           Left                         5          4   \n",
       "1             Juventus          Right                         5          4   \n",
       "2  Paris Saint-Germain          Right                         5          5   \n",
       "3    Manchester United          Right                         4          3   \n",
       "4      Manchester City          Right                         4          5   \n",
       "\n",
       "   Skill Moves       Work Rate Position  Jersey Number    Height  Weight  \n",
       "0            4  Medium/ Medium       RF             10  5.583333     159  \n",
       "1            5       High/ Low       ST              7  6.166667     183  \n",
       "2            5    High/ Medium       LW             10  5.750000     150  \n",
       "3            1  Medium/ Medium       GK              1  6.333333     168  \n",
       "4            4      High/ High      RCM              7  5.083333     154  "
      ]
     },
     "execution_count": 7,
     "metadata": {},
     "output_type": "execute_result"
    }
   ],
   "source": [
    "fifa.head()"
   ]
  },
  {
   "cell_type": "markdown",
   "id": "c3fed8a6",
   "metadata": {},
   "source": [
    "### a)\tAssuming age as population, perform the central limit theorem with sample size of 200. Find the standard error and the mean of sampling distribution. Compare the results with population mean and standard deviation. Explain in non-technical terms why the estimated standard error of a sample mean tends to decrease with an increase in sample size"
   ]
  },
  {
   "cell_type": "code",
   "execution_count": 110,
   "id": "9b207e43",
   "metadata": {},
   "outputs": [],
   "source": [
    "age = fifa['Age']"
   ]
  },
  {
   "cell_type": "code",
   "execution_count": 111,
   "id": "eee050f4",
   "metadata": {},
   "outputs": [],
   "source": [
    "random.seed(1)\n",
    "sample = random.choices(population = age,k=200)"
   ]
  },
  {
   "cell_type": "code",
   "execution_count": 112,
   "id": "ed1686f8",
   "metadata": {},
   "outputs": [],
   "source": [
    "n_sample = len(sample)"
   ]
  },
  {
   "cell_type": "code",
   "execution_count": 113,
   "id": "00e48889",
   "metadata": {},
   "outputs": [],
   "source": [
    "sigma_pop = np.std(age)\n",
    "sigma_sample = np.std(sample)\n",
    "mu = np.mean(age)"
   ]
  },
  {
   "cell_type": "code",
   "execution_count": 114,
   "id": "eebc1db4",
   "metadata": {},
   "outputs": [
    {
     "name": "stdout",
     "output_type": "stream",
     "text": [
      "Standard error is :  0.2728086119425111\n"
     ]
    }
   ],
   "source": [
    "standard_error = sigma_pop/n_sample**0.5\n",
    "print(\"Standard error is : \",standard_error)"
   ]
  },
  {
   "cell_type": "code",
   "execution_count": 115,
   "id": "c74c470a",
   "metadata": {},
   "outputs": [
    {
     "name": "stdout",
     "output_type": "stream",
     "text": [
      "mean of sampling distribution :  27.22\n"
     ]
    }
   ],
   "source": [
    "x_bar = np.mean(sample)\n",
    "\n",
    "print(\"mean of sampling distribution : \",x_bar)"
   ]
  },
  {
   "cell_type": "code",
   "execution_count": 116,
   "id": "44087de5",
   "metadata": {},
   "outputs": [
    {
     "data": {
      "text/plain": [
       "0.01150000000000162"
      ]
     },
     "execution_count": 116,
     "metadata": {},
     "output_type": "execute_result"
    }
   ],
   "source": [
    "mu-x_bar #mu and x_bar are almost same."
   ]
  },
  {
   "cell_type": "code",
   "execution_count": 117,
   "id": "786b3c65",
   "metadata": {},
   "outputs": [
    {
     "data": {
      "text/plain": [
       "0.04210873339807053"
      ]
     },
     "execution_count": 117,
     "metadata": {},
     "output_type": "execute_result"
    }
   ],
   "source": [
    "sigma_sample-sigma_pop # deviation of population is almost equal to deviation of sample"
   ]
  },
  {
   "cell_type": "code",
   "execution_count": 118,
   "id": "0db68702",
   "metadata": {},
   "outputs": [],
   "source": [
    "# as the sample size gets closer to the true size of the population, \n",
    "#the sample means cluster more and more around the true population mean thats why it decreases"
   ]
  },
  {
   "cell_type": "markdown",
   "id": "904672f5",
   "metadata": {},
   "source": [
    "### b)\tIs there any evidence that the players overall rating is greater than 80?"
   ]
  },
  {
   "cell_type": "code",
   "execution_count": 119,
   "id": "80cd5900",
   "metadata": {},
   "outputs": [],
   "source": [
    "#H0: mu<=80\n",
    "#H1 : mu>80\n",
    "\n",
    "overall = fifa['Overall_rating']"
   ]
  },
  {
   "cell_type": "code",
   "execution_count": 120,
   "id": "317c0834",
   "metadata": {},
   "outputs": [],
   "source": [
    "mu =80\n",
    "x_bar = overall.mean()\n",
    "sigma = np.std(overall)\n",
    "n = len(overall)\n",
    "alpha = 0.05"
   ]
  },
  {
   "cell_type": "code",
   "execution_count": 121,
   "id": "d295c1cc",
   "metadata": {},
   "outputs": [
    {
     "data": {
      "text/plain": [
       "-24.544597415236936"
      ]
     },
     "execution_count": 121,
     "metadata": {},
     "output_type": "execute_result"
    }
   ],
   "source": [
    "z_stat = (x_bar-mu)/(sigma/n**0.5)\n",
    "z_stat"
   ]
  },
  {
   "cell_type": "code",
   "execution_count": 122,
   "id": "d326230e",
   "metadata": {},
   "outputs": [
    {
     "data": {
      "text/plain": [
       "2.46971519973599e-133"
      ]
     },
     "execution_count": 122,
     "metadata": {},
     "output_type": "execute_result"
    }
   ],
   "source": [
    "p_value = stats.norm.cdf(z_stat)\n",
    "p_value"
   ]
  },
  {
   "cell_type": "code",
   "execution_count": 123,
   "id": "f03a498a",
   "metadata": {},
   "outputs": [
    {
     "data": {
      "text/plain": [
       "True"
      ]
     },
     "execution_count": 123,
     "metadata": {},
     "output_type": "execute_result"
    }
   ],
   "source": [
    "p_value<alpha # since p_value is lesser than alpha we reject H0."
   ]
  },
  {
   "cell_type": "code",
   "execution_count": 124,
   "id": "d6530d0c",
   "metadata": {},
   "outputs": [],
   "source": [
    "#So, the overall rating is greater than 80."
   ]
  },
  {
   "cell_type": "markdown",
   "id": "f5044af2",
   "metadata": {},
   "source": [
    "### c) Perform the statistical test to identify whether preferred foot has any impact on potential. Also, perform the graphical analysis.\n",
    "\n"
   ]
  },
  {
   "cell_type": "code",
   "execution_count": 125,
   "id": "e7d87f41",
   "metadata": {},
   "outputs": [],
   "source": [
    "#H0: colmns are independent\n",
    "#H1: columns are dependent\n",
    "table = pd.crosstab(fifa['Preferred Foot'],fifa['Potential'])"
   ]
  },
  {
   "cell_type": "code",
   "execution_count": 126,
   "id": "2009cdf7",
   "metadata": {},
   "outputs": [
    {
     "data": {
      "text/html": [
       "<div>\n",
       "<style scoped>\n",
       "    .dataframe tbody tr th:only-of-type {\n",
       "        vertical-align: middle;\n",
       "    }\n",
       "\n",
       "    .dataframe tbody tr th {\n",
       "        vertical-align: top;\n",
       "    }\n",
       "\n",
       "    .dataframe thead th {\n",
       "        text-align: right;\n",
       "    }\n",
       "</style>\n",
       "<table border=\"1\" class=\"dataframe\">\n",
       "  <thead>\n",
       "    <tr style=\"text-align: right;\">\n",
       "      <th>Potential</th>\n",
       "      <th>75</th>\n",
       "      <th>76</th>\n",
       "      <th>77</th>\n",
       "      <th>78</th>\n",
       "      <th>79</th>\n",
       "      <th>80</th>\n",
       "      <th>81</th>\n",
       "      <th>82</th>\n",
       "      <th>83</th>\n",
       "      <th>84</th>\n",
       "      <th>...</th>\n",
       "      <th>86</th>\n",
       "      <th>87</th>\n",
       "      <th>88</th>\n",
       "      <th>89</th>\n",
       "      <th>90</th>\n",
       "      <th>91</th>\n",
       "      <th>92</th>\n",
       "      <th>93</th>\n",
       "      <th>94</th>\n",
       "      <th>95</th>\n",
       "    </tr>\n",
       "    <tr>\n",
       "      <th>Preferred Foot</th>\n",
       "      <th></th>\n",
       "      <th></th>\n",
       "      <th></th>\n",
       "      <th></th>\n",
       "      <th></th>\n",
       "      <th></th>\n",
       "      <th></th>\n",
       "      <th></th>\n",
       "      <th></th>\n",
       "      <th></th>\n",
       "      <th></th>\n",
       "      <th></th>\n",
       "      <th></th>\n",
       "      <th></th>\n",
       "      <th></th>\n",
       "      <th></th>\n",
       "      <th></th>\n",
       "      <th></th>\n",
       "      <th></th>\n",
       "      <th></th>\n",
       "      <th></th>\n",
       "    </tr>\n",
       "  </thead>\n",
       "  <tbody>\n",
       "    <tr>\n",
       "      <th>Left</th>\n",
       "      <td>59</td>\n",
       "      <td>42</td>\n",
       "      <td>41</td>\n",
       "      <td>31</td>\n",
       "      <td>34</td>\n",
       "      <td>51</td>\n",
       "      <td>32</td>\n",
       "      <td>29</td>\n",
       "      <td>30</td>\n",
       "      <td>32</td>\n",
       "      <td>...</td>\n",
       "      <td>17</td>\n",
       "      <td>16</td>\n",
       "      <td>9</td>\n",
       "      <td>13</td>\n",
       "      <td>6</td>\n",
       "      <td>1</td>\n",
       "      <td>4</td>\n",
       "      <td>0</td>\n",
       "      <td>2</td>\n",
       "      <td>0</td>\n",
       "    </tr>\n",
       "    <tr>\n",
       "      <th>Right</th>\n",
       "      <td>153</td>\n",
       "      <td>182</td>\n",
       "      <td>176</td>\n",
       "      <td>114</td>\n",
       "      <td>120</td>\n",
       "      <td>142</td>\n",
       "      <td>111</td>\n",
       "      <td>100</td>\n",
       "      <td>107</td>\n",
       "      <td>78</td>\n",
       "      <td>...</td>\n",
       "      <td>49</td>\n",
       "      <td>36</td>\n",
       "      <td>32</td>\n",
       "      <td>18</td>\n",
       "      <td>15</td>\n",
       "      <td>11</td>\n",
       "      <td>5</td>\n",
       "      <td>4</td>\n",
       "      <td>1</td>\n",
       "      <td>1</td>\n",
       "    </tr>\n",
       "  </tbody>\n",
       "</table>\n",
       "<p>2 rows × 21 columns</p>\n",
       "</div>"
      ],
      "text/plain": [
       "Potential        75   76   77   78   79   80   81   82   83  84  ...  86  87  \\\n",
       "Preferred Foot                                                   ...           \n",
       "Left             59   42   41   31   34   51   32   29   30  32  ...  17  16   \n",
       "Right           153  182  176  114  120  142  111  100  107  78  ...  49  36   \n",
       "\n",
       "Potential       88  89  90  91  92  93  94  95  \n",
       "Preferred Foot                                  \n",
       "Left             9  13   6   1   4   0   2   0  \n",
       "Right           32  18  15  11   5   4   1   1  \n",
       "\n",
       "[2 rows x 21 columns]"
      ]
     },
     "execution_count": 126,
     "metadata": {},
     "output_type": "execute_result"
    }
   ],
   "source": [
    "table.head(2)"
   ]
  },
  {
   "cell_type": "code",
   "execution_count": 140,
   "id": "b397a412",
   "metadata": {},
   "outputs": [],
   "source": [
    "observed_value = table.values\n",
    "chi_stat, p_value, dof, expected_value = chi2_contingency(observed = observed_value, correction = False)"
   ]
  },
  {
   "cell_type": "code",
   "execution_count": 141,
   "id": "23ef99f2",
   "metadata": {},
   "outputs": [
    {
     "data": {
      "text/plain": [
       "0.07747130218941192"
      ]
     },
     "execution_count": 141,
     "metadata": {},
     "output_type": "execute_result"
    }
   ],
   "source": [
    "p_value"
   ]
  },
  {
   "cell_type": "code",
   "execution_count": 159,
   "id": "48fdd99e",
   "metadata": {},
   "outputs": [
    {
     "data": {
      "text/plain": [
       "False"
      ]
     },
     "execution_count": 159,
     "metadata": {},
     "output_type": "execute_result"
    }
   ],
   "source": [
    "p_value<0.05"
   ]
  },
  {
   "cell_type": "code",
   "execution_count": 160,
   "id": "1070a825",
   "metadata": {},
   "outputs": [],
   "source": [
    "# Thus we fail to reject null hypothesis.\n",
    "# So, preffered foot has no impact on potential"
   ]
  },
  {
   "cell_type": "code",
   "execution_count": 162,
   "id": "c6357b6d",
   "metadata": {},
   "outputs": [
    {
     "name": "stderr",
     "output_type": "stream",
     "text": [
      "/Users/pratikshapatil/opt/anaconda3/lib/python3.9/site-packages/seaborn/_decorators.py:36: FutureWarning: Pass the following variables as keyword args: x, y. From version 0.12, the only valid positional argument will be `data`, and passing other arguments without an explicit keyword will result in an error or misinterpretation.\n",
      "  warnings.warn(\n"
     ]
    },
    {
     "data": {
      "text/plain": [
       "<AxesSubplot:xlabel='Preferred Foot', ylabel='Potential'>"
      ]
     },
     "execution_count": 162,
     "metadata": {},
     "output_type": "execute_result"
    },
    {
     "data": {
      "image/png": "[encoded data removed]",
      "text/plain": [
       "<Figure size 432x288 with 1 Axes>"
      ]
     },
     "metadata": {
      "needs_background": "light"
     },
     "output_type": "display_data"
    }
   ],
   "source": [
    "sns.scatterplot(fifa['Preferred Foot'],fifa['Potential'])"
   ]
  },
  {
   "cell_type": "markdown",
   "id": "f949510c",
   "metadata": {},
   "source": []
  },
  {
   "cell_type": "markdown",
   "id": "04b00388",
   "metadata": {},
   "source": [
    "### e) Does skill move have any effect in overall rating? Perform the graphical analysis and the statistical analysis."
   ]
  },
  {
   "cell_type": "code",
   "execution_count": 180,
   "id": "f610a946",
   "metadata": {},
   "outputs": [],
   "source": [
    "#H0: Overall rating and skill move are independent\n",
    "#H1: Overall rating and skill move are are dependent\n",
    "table1 = pd.crosstab(fifa['Skill Moves'],fifa['Overall_rating'])"
   ]
  },
  {
   "cell_type": "code",
   "execution_count": 181,
   "id": "10b1b1d4",
   "metadata": {},
   "outputs": [
    {
     "data": {
      "text/html": [
       "<div>\n",
       "<style scoped>\n",
       "    .dataframe tbody tr th:only-of-type {\n",
       "        vertical-align: middle;\n",
       "    }\n",
       "\n",
       "    .dataframe tbody tr th {\n",
       "        vertical-align: top;\n",
       "    }\n",
       "\n",
       "    .dataframe thead th {\n",
       "        text-align: right;\n",
       "    }\n",
       "</style>\n",
       "<table border=\"1\" class=\"dataframe\">\n",
       "  <thead>\n",
       "    <tr style=\"text-align: right;\">\n",
       "      <th>Overall_rating</th>\n",
       "      <th>75</th>\n",
       "      <th>76</th>\n",
       "      <th>77</th>\n",
       "      <th>78</th>\n",
       "      <th>79</th>\n",
       "      <th>80</th>\n",
       "      <th>81</th>\n",
       "      <th>82</th>\n",
       "      <th>83</th>\n",
       "      <th>84</th>\n",
       "      <th>85</th>\n",
       "      <th>86</th>\n",
       "      <th>87</th>\n",
       "      <th>88</th>\n",
       "      <th>89</th>\n",
       "      <th>90</th>\n",
       "      <th>91</th>\n",
       "      <th>92</th>\n",
       "      <th>94</th>\n",
       "    </tr>\n",
       "    <tr>\n",
       "      <th>Skill Moves</th>\n",
       "      <th></th>\n",
       "      <th></th>\n",
       "      <th></th>\n",
       "      <th></th>\n",
       "      <th></th>\n",
       "      <th></th>\n",
       "      <th></th>\n",
       "      <th></th>\n",
       "      <th></th>\n",
       "      <th></th>\n",
       "      <th></th>\n",
       "      <th></th>\n",
       "      <th></th>\n",
       "      <th></th>\n",
       "      <th></th>\n",
       "      <th></th>\n",
       "      <th></th>\n",
       "      <th></th>\n",
       "      <th></th>\n",
       "    </tr>\n",
       "  </thead>\n",
       "  <tbody>\n",
       "    <tr>\n",
       "      <th>1</th>\n",
       "      <td>38</td>\n",
       "      <td>32</td>\n",
       "      <td>23</td>\n",
       "      <td>15</td>\n",
       "      <td>19</td>\n",
       "      <td>18</td>\n",
       "      <td>5</td>\n",
       "      <td>12</td>\n",
       "      <td>13</td>\n",
       "      <td>7</td>\n",
       "      <td>2</td>\n",
       "      <td>1</td>\n",
       "      <td>1</td>\n",
       "      <td>3</td>\n",
       "      <td>3</td>\n",
       "      <td>1</td>\n",
       "      <td>1</td>\n",
       "      <td>0</td>\n",
       "      <td>0</td>\n",
       "    </tr>\n",
       "    <tr>\n",
       "      <th>2</th>\n",
       "      <td>96</td>\n",
       "      <td>78</td>\n",
       "      <td>63</td>\n",
       "      <td>30</td>\n",
       "      <td>24</td>\n",
       "      <td>25</td>\n",
       "      <td>13</td>\n",
       "      <td>20</td>\n",
       "      <td>10</td>\n",
       "      <td>10</td>\n",
       "      <td>12</td>\n",
       "      <td>6</td>\n",
       "      <td>3</td>\n",
       "      <td>2</td>\n",
       "      <td>2</td>\n",
       "      <td>1</td>\n",
       "      <td>0</td>\n",
       "      <td>0</td>\n",
       "      <td>0</td>\n",
       "    </tr>\n",
       "  </tbody>\n",
       "</table>\n",
       "</div>"
      ],
      "text/plain": [
       "Overall_rating  75  76  77  78  79  80  81  82  83  84  85  86  87  88  89  \\\n",
       "Skill Moves                                                                  \n",
       "1               38  32  23  15  19  18   5  12  13   7   2   1   1   3   3   \n",
       "2               96  78  63  30  24  25  13  20  10  10  12   6   3   2   2   \n",
       "\n",
       "Overall_rating  90  91  92  94  \n",
       "Skill Moves                     \n",
       "1                1   1   0   0  \n",
       "2                1   0   0   0  "
      ]
     },
     "execution_count": 181,
     "metadata": {},
     "output_type": "execute_result"
    }
   ],
   "source": [
    "table1.head(2)"
   ]
  },
  {
   "cell_type": "code",
   "execution_count": 182,
   "id": "a5b5268b",
   "metadata": {},
   "outputs": [
    {
     "data": {
      "text/plain": [
       "9.004103479489286e-24"
      ]
     },
     "execution_count": 182,
     "metadata": {},
     "output_type": "execute_result"
    }
   ],
   "source": [
    "observed_value = table1.values\n",
    "chi_stat, p_value, dof, expected_value = chi2_contingency(observed = observed_value, correction = False)\n",
    "p_value"
   ]
  },
  {
   "cell_type": "code",
   "execution_count": 183,
   "id": "0d78c4d9",
   "metadata": {},
   "outputs": [
    {
     "data": {
      "text/plain": [
       "True"
      ]
     },
     "execution_count": 183,
     "metadata": {},
     "output_type": "execute_result"
    }
   ],
   "source": [
    "p_value<0.05"
   ]
  },
  {
   "cell_type": "code",
   "execution_count": 236,
   "id": "73e3a5dd",
   "metadata": {},
   "outputs": [
    {
     "name": "stderr",
     "output_type": "stream",
     "text": [
      "/Users/pratikshapatil/opt/anaconda3/lib/python3.9/site-packages/seaborn/_decorators.py:36: FutureWarning: Pass the following variables as keyword args: x, y. From version 0.12, the only valid positional argument will be `data`, and passing other arguments without an explicit keyword will result in an error or misinterpretation.\n",
      "  warnings.warn(\n"
     ]
    },
    {
     "data": {
      "text/plain": [
       "<AxesSubplot:xlabel='Skill Moves', ylabel='Overall_rating'>"
      ]
     },
     "execution_count": 236,
     "metadata": {},
     "output_type": "execute_result"
    },
    {
     "data": {
      "image/png": "[encoded data removed]",
      "text/plain": [
       "<Figure size 432x288 with 1 Axes>"
      ]
     },
     "metadata": {
      "needs_background": "light"
     },
     "output_type": "display_data"
    }
   ],
   "source": [
    "#since p is low we reject the null hypothesis\n",
    "sns.scatterplot(fifa['Skill Moves'],fifa['Overall_rating'])"
   ]
  },
  {
   "cell_type": "markdown",
   "id": "0c6d633e",
   "metadata": {},
   "source": [
    "2. Perform the following statistical analysis on the mobile network dataset given. The given data set contains information about the internet, calls, and messages of various network. Data Cleaning and basic EDA process needs to be performed. \n",
    "\n",
    "a) With 95% & 99% Confidence Interval, find the range estimate of average duration calls made by the entire network. Which of the Intervals are wider? Interpret the results.\n",
    "\n",
    "b) Perform statistical analysis to check whether the networks are equally distributed in the dataset.\n",
    "\n",
    "c) Plot the distribution of duration with respect to each network in the same graph and interpret the results from the graph.\n",
    "\n",
    "d)\tPerform statistical tests to identify the relation between item and duration. Detailed explanation of relation between the classes is required.\n",
    "\n",
    "e)\tPerform statistical tests to identify the relation between network and network_type. \n",
    "\n"
   ]
  },
  {
   "cell_type": "code",
   "execution_count": 188,
   "id": "1d150a5a",
   "metadata": {},
   "outputs": [],
   "source": [
    "df= pd.read_csv(\"phone.csv\")"
   ]
  },
  {
   "cell_type": "code",
   "execution_count": 193,
   "id": "75485a56",
   "metadata": {},
   "outputs": [
    {
     "data": {
      "text/plain": [
       "date            0\n",
       "duration        0\n",
       "item            0\n",
       "month           0\n",
       "network         0\n",
       "network_type    0\n",
       "dtype: int64"
      ]
     },
     "execution_count": 193,
     "metadata": {},
     "output_type": "execute_result"
    }
   ],
   "source": [
    "df.isnull().sum() #no null values"
   ]
  },
  {
   "cell_type": "code",
   "execution_count": 194,
   "id": "706c142d",
   "metadata": {},
   "outputs": [
    {
     "name": "stdout",
     "output_type": "stream",
     "text": [
      "<class 'pandas.core.frame.DataFrame'>\n",
      "RangeIndex: 820 entries, 0 to 819\n",
      "Data columns (total 6 columns):\n",
      " #   Column        Non-Null Count  Dtype  \n",
      "---  ------        --------------  -----  \n",
      " 0   date          820 non-null    object \n",
      " 1   duration      820 non-null    float64\n",
      " 2   item          820 non-null    object \n",
      " 3   month         820 non-null    object \n",
      " 4   network       820 non-null    object \n",
      " 5   network_type  820 non-null    object \n",
      "dtypes: float64(1), object(5)\n",
      "memory usage: 38.6+ KB\n"
     ]
    }
   ],
   "source": [
    "df.info()"
   ]
  },
  {
   "cell_type": "code",
   "execution_count": 200,
   "id": "18702e17",
   "metadata": {},
   "outputs": [],
   "source": [
    "df['date']=pd.to_datetime(df['date'])\n",
    "df['month']= pd.to_datetime(df['month'])"
   ]
  },
  {
   "cell_type": "markdown",
   "id": "d57bf8b9",
   "metadata": {},
   "source": [
    "#### a) With 95% & 99% Confidence Interval, find the range estimate of average duration calls made by the entire network. Which of the Intervals are wider? Interpret the results."
   ]
  },
  {
   "cell_type": "code",
   "execution_count": 201,
   "id": "31c91999",
   "metadata": {},
   "outputs": [
    {
     "data": {
      "text/html": [
       "<div>\n",
       "<style scoped>\n",
       "    .dataframe tbody tr th:only-of-type {\n",
       "        vertical-align: middle;\n",
       "    }\n",
       "\n",
       "    .dataframe tbody tr th {\n",
       "        vertical-align: top;\n",
       "    }\n",
       "\n",
       "    .dataframe thead th {\n",
       "        text-align: right;\n",
       "    }\n",
       "</style>\n",
       "<table border=\"1\" class=\"dataframe\">\n",
       "  <thead>\n",
       "    <tr style=\"text-align: right;\">\n",
       "      <th></th>\n",
       "      <th>date</th>\n",
       "      <th>duration</th>\n",
       "      <th>item</th>\n",
       "      <th>month</th>\n",
       "      <th>network</th>\n",
       "      <th>network_type</th>\n",
       "    </tr>\n",
       "  </thead>\n",
       "  <tbody>\n",
       "    <tr>\n",
       "      <th>0</th>\n",
       "      <td>2014-10-15 06:58:00</td>\n",
       "      <td>221.321120</td>\n",
       "      <td>data</td>\n",
       "      <td>2014-11-01</td>\n",
       "      <td>data</td>\n",
       "      <td>data</td>\n",
       "    </tr>\n",
       "    <tr>\n",
       "      <th>1</th>\n",
       "      <td>2014-10-15 06:58:00</td>\n",
       "      <td>81.610599</td>\n",
       "      <td>call</td>\n",
       "      <td>2014-11-01</td>\n",
       "      <td>Vodafone</td>\n",
       "      <td>mobile</td>\n",
       "    </tr>\n",
       "    <tr>\n",
       "      <th>2</th>\n",
       "      <td>2014-10-15 14:46:00</td>\n",
       "      <td>143.109111</td>\n",
       "      <td>call</td>\n",
       "      <td>2014-11-01</td>\n",
       "      <td>Meteor</td>\n",
       "      <td>mobile</td>\n",
       "    </tr>\n",
       "    <tr>\n",
       "      <th>3</th>\n",
       "      <td>2014-10-15 14:48:00</td>\n",
       "      <td>111.888670</td>\n",
       "      <td>call</td>\n",
       "      <td>2014-11-01</td>\n",
       "      <td>Tesco</td>\n",
       "      <td>mobile</td>\n",
       "    </tr>\n",
       "    <tr>\n",
       "      <th>4</th>\n",
       "      <td>2014-10-15 17:27:00</td>\n",
       "      <td>246.695171</td>\n",
       "      <td>call</td>\n",
       "      <td>2014-11-01</td>\n",
       "      <td>Tesco</td>\n",
       "      <td>mobile</td>\n",
       "    </tr>\n",
       "    <tr>\n",
       "      <th>...</th>\n",
       "      <td>...</td>\n",
       "      <td>...</td>\n",
       "      <td>...</td>\n",
       "      <td>...</td>\n",
       "      <td>...</td>\n",
       "      <td>...</td>\n",
       "    </tr>\n",
       "    <tr>\n",
       "      <th>815</th>\n",
       "      <td>2015-10-03 06:58:00</td>\n",
       "      <td>185.328156</td>\n",
       "      <td>data</td>\n",
       "      <td>2015-03-01</td>\n",
       "      <td>data</td>\n",
       "      <td>data</td>\n",
       "    </tr>\n",
       "    <tr>\n",
       "      <th>816</th>\n",
       "      <td>2015-11-03 06:58:00</td>\n",
       "      <td>89.819383</td>\n",
       "      <td>data</td>\n",
       "      <td>2015-03-01</td>\n",
       "      <td>data</td>\n",
       "      <td>data</td>\n",
       "    </tr>\n",
       "    <tr>\n",
       "      <th>817</th>\n",
       "      <td>2015-12-03 06:58:00</td>\n",
       "      <td>117.604998</td>\n",
       "      <td>data</td>\n",
       "      <td>2015-03-01</td>\n",
       "      <td>data</td>\n",
       "      <td>data</td>\n",
       "    </tr>\n",
       "    <tr>\n",
       "      <th>818</th>\n",
       "      <td>2015-03-13 00:39:00</td>\n",
       "      <td>77.834006</td>\n",
       "      <td>sms</td>\n",
       "      <td>2015-03-01</td>\n",
       "      <td>Vodafone</td>\n",
       "      <td>mobile</td>\n",
       "    </tr>\n",
       "    <tr>\n",
       "      <th>819</th>\n",
       "      <td>2015-03-13 06:58:00</td>\n",
       "      <td>146.000584</td>\n",
       "      <td>data</td>\n",
       "      <td>2015-03-01</td>\n",
       "      <td>data</td>\n",
       "      <td>data</td>\n",
       "    </tr>\n",
       "  </tbody>\n",
       "</table>\n",
       "<p>820 rows × 6 columns</p>\n",
       "</div>"
      ],
      "text/plain": [
       "                   date    duration  item      month   network network_type\n",
       "0   2014-10-15 06:58:00  221.321120  data 2014-11-01      data         data\n",
       "1   2014-10-15 06:58:00   81.610599  call 2014-11-01  Vodafone       mobile\n",
       "2   2014-10-15 14:46:00  143.109111  call 2014-11-01    Meteor       mobile\n",
       "3   2014-10-15 14:48:00  111.888670  call 2014-11-01     Tesco       mobile\n",
       "4   2014-10-15 17:27:00  246.695171  call 2014-11-01     Tesco       mobile\n",
       "..                  ...         ...   ...        ...       ...          ...\n",
       "815 2015-10-03 06:58:00  185.328156  data 2015-03-01      data         data\n",
       "816 2015-11-03 06:58:00   89.819383  data 2015-03-01      data         data\n",
       "817 2015-12-03 06:58:00  117.604998  data 2015-03-01      data         data\n",
       "818 2015-03-13 00:39:00   77.834006   sms 2015-03-01  Vodafone       mobile\n",
       "819 2015-03-13 06:58:00  146.000584  data 2015-03-01      data         data\n",
       "\n",
       "[820 rows x 6 columns]"
      ]
     },
     "execution_count": 201,
     "metadata": {},
     "output_type": "execute_result"
    }
   ],
   "source": [
    "df"
   ]
  },
  {
   "cell_type": "code",
   "execution_count": 206,
   "id": "a3c97f7a",
   "metadata": {},
   "outputs": [],
   "source": [
    "sample = df['duration']\n",
    "x_bar = sample.mean()\n",
    "sigma = np.std(sample)\n",
    "n = len(sample)"
   ]
  },
  {
   "cell_type": "code",
   "execution_count": 213,
   "id": "266cf088",
   "metadata": {},
   "outputs": [
    {
     "data": {
      "text/plain": [
       "(141.1797470762666, 147.4301240434043)"
      ]
     },
     "execution_count": 213,
     "metadata": {},
     "output_type": "execute_result"
    }
   ],
   "source": [
    "conf95 = stats.norm.interval(0.95,loc=x_bar,scale=sigma/n**0.5)\n",
    "conf95"
   ]
  },
  {
   "cell_type": "code",
   "execution_count": 212,
   "id": "1b70285f",
   "metadata": {},
   "outputs": [
    {
     "data": {
      "text/plain": [
       "(140.1977416835259, 148.41212943614502)"
      ]
     },
     "execution_count": 212,
     "metadata": {},
     "output_type": "execute_result"
    }
   ],
   "source": [
    "conf99 = stats.norm.interval(0.99,loc=x_bar,scale=sigma/n**0.5)\n",
    "conf99"
   ]
  },
  {
   "cell_type": "code",
   "execution_count": 214,
   "id": "1888683d",
   "metadata": {},
   "outputs": [],
   "source": [
    "#confidence interval of 99% is wider"
   ]
  },
  {
   "cell_type": "markdown",
   "id": "ad875d42",
   "metadata": {},
   "source": [
    "### b) Perform statistical analysis to check whether the networks are equally distributed in the dataset."
   ]
  },
  {
   "cell_type": "code",
   "execution_count": 243,
   "id": "355f16c8",
   "metadata": {},
   "outputs": [],
   "source": [
    "grp1=df[df['network']=='Vodafone']['duration']\n",
    "grp2=df[df['network']=='Three']['duration']\n",
    "grp3=df[df['network']=='data']['duration']\n",
    "grp4=df[df['network']=='Meteor']['duration']\n",
    "grp5=df[df['network']=='Tesco']['duration']\n",
    "grp6=df[df['network']=='landline']['duration']\n",
    "grp7=df[df['network']=='voicemail']['duration']"
   ]
  },
  {
   "cell_type": "code",
   "execution_count": 250,
   "id": "337b4a0d",
   "metadata": {},
   "outputs": [
    {
     "data": {
      "text/plain": [
       "0.1653481809327658"
      ]
     },
     "execution_count": 250,
     "metadata": {},
     "output_type": "execute_result"
    }
   ],
   "source": [
    "s,p_val = stats.levene(grp1,grp2,grp3,grp4,grp5,grp6,grp7)\n",
    "p_val\n"
   ]
  },
  {
   "cell_type": "code",
   "execution_count": 251,
   "id": "7220ca7f",
   "metadata": {},
   "outputs": [
    {
     "data": {
      "text/plain": [
       "False"
      ]
     },
     "execution_count": 251,
     "metadata": {},
     "output_type": "execute_result"
    }
   ],
   "source": [
    "p_val<0.05"
   ]
  },
  {
   "cell_type": "code",
   "execution_count": 252,
   "id": "bdc5848e",
   "metadata": {},
   "outputs": [],
   "source": [
    "#since p_val is not smaller than 0.05, therefore we failed to reject null hypothesis. i.e \n",
    "#"
   ]
  },
  {
   "cell_type": "markdown",
   "id": "c6ed1ed1",
   "metadata": {},
   "source": [
    "#### c) Plot the distribution of duration with respect to each network in the same graph and interpret the results from the graph.\n"
   ]
  },
  {
   "cell_type": "code",
   "execution_count": 256,
   "id": "15026ce0",
   "metadata": {},
   "outputs": [
    {
     "data": {
      "text/plain": [
       "<AxesSubplot:ylabel='Density'>"
      ]
     },
     "execution_count": 256,
     "metadata": {},
     "output_type": "execute_result"
    },
    {
     "data": {
      "image/png": "[encoded data removed]",
      "text/plain": [
       "<Figure size 432x288 with 1 Axes>"
      ]
     },
     "metadata": {
      "needs_background": "light"
     },
     "output_type": "display_data"
    }
   ],
   "source": [
    "df.groupby(df['network'])['duration'].mean().plot(kind='kde')"
   ]
  },
  {
   "cell_type": "markdown",
   "id": "bcf9cf26",
   "metadata": {},
   "source": [
    "#### d)\tPerform statistical tests to identify the relation between item and duration. Detailed explanation of relation between the classes is required."
   ]
  },
  {
   "cell_type": "code",
   "execution_count": 264,
   "id": "4a034440",
   "metadata": {},
   "outputs": [],
   "source": [
    "data = df[df['item']=='data']['duration']\n",
    "sms = df[df['item']=='sms']['duration']\n",
    "call = df[df['item']=='call']['duration']"
   ]
  },
  {
   "cell_type": "code",
   "execution_count": 265,
   "id": "1bb2ad25",
   "metadata": {},
   "outputs": [
    {
     "data": {
      "text/plain": [
       "F_onewayResult(statistic=1.9313964906864995, pvalue=0.1456068656611744)"
      ]
     },
     "execution_count": 265,
     "metadata": {},
     "output_type": "execute_result"
    }
   ],
   "source": [
    "stats.f_oneway(data,sms,call)"
   ]
  },
  {
   "cell_type": "code",
   "execution_count": null,
   "id": "d9bac5c7",
   "metadata": {},
   "outputs": [],
   "source": [
    "#since p_val is greater than 0.05 therefore we fail to reject"
   ]
  },
  {
   "cell_type": "markdown",
   "id": "78d327cd",
   "metadata": {},
   "source": [
    "#### e)\tPerform statistical tests to identify the relation between network and network_type. "
   ]
  },
  {
   "cell_type": "code",
   "execution_count": 273,
   "id": "0f729324",
   "metadata": {},
   "outputs": [],
   "source": [
    "table2 = pd.crosstab(df['network'],df['network_type'])"
   ]
  },
  {
   "cell_type": "code",
   "execution_count": 274,
   "id": "cbad5f32",
   "metadata": {},
   "outputs": [],
   "source": [
    "observed_value = table2.values"
   ]
  },
  {
   "cell_type": "code",
   "execution_count": 275,
   "id": "fb666bcd",
   "metadata": {},
   "outputs": [],
   "source": [
    "chi_stat,p,dof,expected_value = chi2_contingency(observed_value,correction=False)"
   ]
  },
  {
   "cell_type": "code",
   "execution_count": 276,
   "id": "a09f93c7",
   "metadata": {},
   "outputs": [
    {
     "data": {
      "text/plain": [
       "0.0"
      ]
     },
     "execution_count": 276,
     "metadata": {},
     "output_type": "execute_result"
    }
   ],
   "source": [
    "p"
   ]
  },
  {
   "cell_type": "code",
   "execution_count": null,
   "id": "01ce0e4e",
   "metadata": {},
   "outputs": [],
   "source": [
    "#"
   ]
  }
 ],
 "metadata": {
  "kernelspec": {
   "display_name": "Python 3 (ipykernel)",
   "language": "python",
   "name": "python3"
  },
  "language_info": {
   "codemirror_mode": {
    "name": "ipython",
    "version": 3
   },
   "file_extension": ".py",
   "mimetype": "text/x-python",
   "name": "python",
   "nbconvert_exporter": "python",
   "pygments_lexer": "ipython3",
   "version": "3.9.7"
  }
 },
 "nbformat": 4,
 "nbformat_minor": 5
}
